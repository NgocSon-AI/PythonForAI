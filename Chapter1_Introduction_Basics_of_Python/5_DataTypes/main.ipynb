{
 "cells": [
  {
   "cell_type": "markdown",
   "id": "d64e2c62",
   "metadata": {},
   "source": [
    "<h1>Data Types</h1>"
   ]
  },
  {
   "cell_type": "markdown",
   "id": "5e983258",
   "metadata": {},
   "source": [
    "<h3>1. Numeric Types</h3>"
   ]
  },
  {
   "cell_type": "code",
   "execution_count": 1,
   "id": "567ea0db",
   "metadata": {},
   "outputs": [],
   "source": [
    "# Int\n",
    "a = 5"
   ]
  },
  {
   "cell_type": "code",
   "execution_count": 3,
   "id": "f4812952",
   "metadata": {},
   "outputs": [],
   "source": [
    "# Float\n",
    "b = 3.14"
   ]
  },
  {
   "cell_type": "code",
   "execution_count": 2,
   "id": "01436d76",
   "metadata": {},
   "outputs": [],
   "source": [
    "# Complex\n",
    "c = 2 + 3j"
   ]
  },
  {
   "cell_type": "markdown",
   "id": "2a302c58",
   "metadata": {},
   "source": [
    "<h3>2. Sequence Types</h3>"
   ]
  },
  {
   "cell_type": "code",
   "execution_count": 5,
   "id": "d64e20ea",
   "metadata": {},
   "outputs": [
    {
     "name": "stdout",
     "output_type": "stream",
     "text": [
      "Ngoc Son\n"
     ]
    }
   ],
   "source": [
    "# Str\n",
    "name = \"Ngoc Son\"\n",
    "print(name)"
   ]
  },
  {
   "cell_type": "code",
   "execution_count": 7,
   "id": "85367054",
   "metadata": {},
   "outputs": [
    {
     "name": "stdout",
     "output_type": "stream",
     "text": [
      "[1, 2, 3, 'tour']\n"
     ]
    }
   ],
   "source": [
    "# List\n",
    "my_list = [1, 2, 3, \"tour\"]\n",
    "print(my_list)"
   ]
  },
  {
   "cell_type": "code",
   "execution_count": 8,
   "id": "588bd46f",
   "metadata": {},
   "outputs": [
    {
     "name": "stdout",
     "output_type": "stream",
     "text": [
      "(1, 2, 3)\n"
     ]
    }
   ],
   "source": [
    "# Tuple\n",
    "my_tuple = (1, 2, 3)\n",
    "print(my_tuple)"
   ]
  },
  {
   "cell_type": "markdown",
   "id": "2326a51d",
   "metadata": {},
   "source": [
    "<h3>3. Mapping Type</h3>"
   ]
  },
  {
   "cell_type": "code",
   "execution_count": 10,
   "id": "a0260929",
   "metadata": {},
   "outputs": [],
   "source": [
    "# Dict\n",
    "my_dict = {\"name\": \"Ngoc Son\", \"age\": 24}"
   ]
  },
  {
   "cell_type": "markdown",
   "id": "a45b55b1",
   "metadata": {},
   "source": [
    "<h3>4. Set Types</h3>"
   ]
  },
  {
   "cell_type": "code",
   "execution_count": 12,
   "id": "6dd14989",
   "metadata": {},
   "outputs": [],
   "source": [
    "my_set = {1, 2, 3}\n",
    "my_frozenset = frozenset([1, 2, 3])"
   ]
  },
  {
   "cell_type": "code",
   "execution_count": 14,
   "id": "1528a00e",
   "metadata": {},
   "outputs": [
    {
     "name": "stdout",
     "output_type": "stream",
     "text": [
      "frozenset({1, 2, 3})\n"
     ]
    }
   ],
   "source": [
    "print(my_frozenset)"
   ]
  },
  {
   "cell_type": "markdown",
   "id": "b7e4702e",
   "metadata": {},
   "source": [
    "<h3>5. Boolean Type</h3>"
   ]
  },
  {
   "cell_type": "code",
   "execution_count": 15,
   "id": "954b4a10",
   "metadata": {},
   "outputs": [],
   "source": [
    "# bool: Represent True or False\n",
    "is_active = True"
   ]
  },
  {
   "cell_type": "markdown",
   "id": "44d1b839",
   "metadata": {},
   "source": [
    "<h3>6. None Type</h3>"
   ]
  },
  {
   "cell_type": "code",
   "execution_count": 16,
   "id": "96c34822",
   "metadata": {},
   "outputs": [],
   "source": [
    "value = None"
   ]
  }
 ],
 "metadata": {
  "kernelspec": {
   "display_name": "myenv",
   "language": "python",
   "name": "python3"
  },
  "language_info": {
   "codemirror_mode": {
    "name": "ipython",
    "version": 3
   },
   "file_extension": ".py",
   "mimetype": "text/x-python",
   "name": "python",
   "nbconvert_exporter": "python",
   "pygments_lexer": "ipython3",
   "version": "3.12.9"
  }
 },
 "nbformat": 4,
 "nbformat_minor": 5
}
