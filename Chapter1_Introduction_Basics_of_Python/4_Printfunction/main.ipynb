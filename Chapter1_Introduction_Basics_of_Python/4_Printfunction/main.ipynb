{
 "cells": [
  {
   "cell_type": "markdown",
   "id": "ff5c30b7",
   "metadata": {},
   "source": [
    "<h1>Print(): </h1><h2>In ra man hinh</h2>\n"
   ]
  },
  {
   "cell_type": "code",
   "execution_count": 1,
   "id": "d79ea710",
   "metadata": {},
   "outputs": [
    {
     "name": "stdout",
     "output_type": "stream",
     "text": [
      "Hello Ngoc Son\n"
     ]
    }
   ],
   "source": [
    "print(\"Hello Ngoc Son\")"
   ]
  },
  {
   "cell_type": "code",
   "execution_count": 2,
   "id": "3e13c1b8",
   "metadata": {},
   "outputs": [
    {
     "name": "stdout",
     "output_type": "stream",
     "text": [
      "Hi\n"
     ]
    }
   ],
   "source": [
    "print(\"Hi\")"
   ]
  }
 ],
 "metadata": {
  "kernelspec": {
   "display_name": "myenv",
   "language": "python",
   "name": "python3"
  },
  "language_info": {
   "codemirror_mode": {
    "name": "ipython",
    "version": 3
   },
   "file_extension": ".py",
   "mimetype": "text/x-python",
   "name": "python",
   "nbconvert_exporter": "python",
   "pygments_lexer": "ipython3",
   "version": "3.12.9"
  }
 },
 "nbformat": 4,
 "nbformat_minor": 5
}
