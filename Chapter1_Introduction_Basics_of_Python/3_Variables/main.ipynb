{
 "cells": [
  {
   "cell_type": "code",
   "execution_count": null,
   "id": "9097b43d",
   "metadata": {},
   "outputs": [],
   "source": [
    "# Variable\n",
    "x = 10              # Int"
   ]
  },
  {
   "cell_type": "code",
   "execution_count": null,
   "id": "ea87c412",
   "metadata": {},
   "outputs": [],
   "source": [
    "x = 3.14            # Float\n",
    "Name = \"Ngoc Son\"   # String"
   ]
  }
 ],
 "metadata": {
  "kernelspec": {
   "display_name": "myenv",
   "language": "python",
   "name": "python3"
  },
  "language_info": {
   "codemirror_mode": {
    "name": "ipython",
    "version": 3
   },
   "file_extension": ".py",
   "mimetype": "text/x-python",
   "name": "python",
   "nbconvert_exporter": "python",
   "pygments_lexer": "ipython3",
   "version": "3.12.9"
  }
 },
 "nbformat": 4,
 "nbformat_minor": 5
}
