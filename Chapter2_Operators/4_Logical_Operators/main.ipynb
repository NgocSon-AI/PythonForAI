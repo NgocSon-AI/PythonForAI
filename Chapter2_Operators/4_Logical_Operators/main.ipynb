{
 "cells": [
  {
   "cell_type": "markdown",
   "id": "7eca6b62",
   "metadata": {},
   "source": [
    "<h1>Logical Operators</h1>"
   ]
  },
  {
   "cell_type": "markdown",
   "id": "c48719f2",
   "metadata": {},
   "source": [
    "Logical operators (toán tử logic) được sử dụng để kết hợp hoặc đảo ngược các điều kiện boolean. Trong Python, có ba toán tử logic chính:\n",
    "\n",
    "AND: Trả về True nếu cả hai điều kiện đều đúng.\n",
    "\n",
    "OR: Trả về True nếu ít nhất một trong hai điều kiện đúng.\n",
    "\n",
    "NOT: Đảo ngược giá trị boolean của điều kiện.\n",
    "\n",
    "Dưới đây là ví dụ minh họa:"
   ]
  },
  {
   "cell_type": "code",
   "execution_count": 2,
   "id": "8b887411",
   "metadata": {},
   "outputs": [],
   "source": [
    "x = 10\n",
    "y = 5"
   ]
  },
  {
   "cell_type": "markdown",
   "id": "6df4616f",
   "metadata": {},
   "source": [
    "<h3>1. Logical AND</h3>"
   ]
  },
  {
   "cell_type": "code",
   "execution_count": 6,
   "id": "f1e16b43",
   "metadata": {},
   "outputs": [
    {
     "name": "stdout",
     "output_type": "stream",
     "text": [
      "AND:  True\n"
     ]
    }
   ],
   "source": [
    "and_result = (x > 5) and (y < 10)\n",
    "\n",
    "print(\"AND: \", and_result)"
   ]
  },
  {
   "cell_type": "markdown",
   "id": "579f1fa7",
   "metadata": {},
   "source": [
    "<h3>2. Logical OR</h3>"
   ]
  },
  {
   "cell_type": "code",
   "execution_count": 7,
   "id": "e91e68bd",
   "metadata": {},
   "outputs": [
    {
     "name": "stdout",
     "output_type": "stream",
     "text": [
      "OR:  True\n"
     ]
    }
   ],
   "source": [
    "or_result = (x < 5) or (y < 10)\n",
    "print(\"OR: \", or_result)"
   ]
  },
  {
   "cell_type": "markdown",
   "id": "626c875b",
   "metadata": {},
   "source": [
    "<h3>3. Logical NOT</h3>"
   ]
  },
  {
   "cell_type": "code",
   "execution_count": 8,
   "id": "873aa3e3",
   "metadata": {},
   "outputs": [
    {
     "name": "stdout",
     "output_type": "stream",
     "text": [
      "Logical NOT:  False\n"
     ]
    }
   ],
   "source": [
    "not_result = not (x == 10)\n",
    "print(\"Logical NOT: \", not_result)"
   ]
  }
 ],
 "metadata": {
  "kernelspec": {
   "display_name": "myenv",
   "language": "python",
   "name": "python3"
  },
  "language_info": {
   "codemirror_mode": {
    "name": "ipython",
    "version": 3
   },
   "file_extension": ".py",
   "mimetype": "text/x-python",
   "name": "python",
   "nbconvert_exporter": "python",
   "pygments_lexer": "ipython3",
   "version": "3.12.9"
  }
 },
 "nbformat": 4,
 "nbformat_minor": 5
}
