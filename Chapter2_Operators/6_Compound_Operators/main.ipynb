{
 "cells": [
  {
   "cell_type": "markdown",
   "id": "92a2fc59",
   "metadata": {},
   "source": [
    "<h1>Compound Operations</h1>"
   ]
  },
  {
   "cell_type": "markdown",
   "id": "c0f5de72",
   "metadata": {},
   "source": [
    "Compound operations (phép toán phức hợp) là các phép toán kết hợp giữa một phép toán và gán giá trị. Chúng cho phép thực hiện một phép toán và gán kết quả vào cùng một biến trong một bước.\n",
    "\n",
    "Ví dụ về Compound Operations trong Python:\n",
    "\n",
    "Gán cộng (+=): Thêm giá trị vào biến và gán lại.\n",
    "\n",
    "Gán trừ (-=): Trừ giá trị từ biến và gán lại.\n",
    "\n",
    "Gán nhân (*=): Nhân giá trị với biến và gán lại.\n",
    "\n",
    "Gán chia (/=): Chia biến cho giá trị và gán lại."
   ]
  },
  {
   "cell_type": "code",
   "execution_count": 2,
   "id": "55755b3e",
   "metadata": {},
   "outputs": [],
   "source": [
    "# Khởi tạo biến\n",
    "a = 10\n",
    "b = 5"
   ]
  },
  {
   "cell_type": "code",
   "execution_count": 4,
   "id": "49b8aa39",
   "metadata": {},
   "outputs": [
    {
     "name": "stdout",
     "output_type": "stream",
     "text": [
      "Giá trị của a sau gán cộng: 20\n"
     ]
    }
   ],
   "source": [
    "# Gán cộng\n",
    "a += b  # Tương đương với a = a + b\n",
    "print(\"Giá trị của a sau gán cộng:\", a)  # Kết quả: 15"
   ]
  },
  {
   "cell_type": "code",
   "execution_count": 5,
   "id": "617b7649",
   "metadata": {},
   "outputs": [
    {
     "name": "stdout",
     "output_type": "stream",
     "text": [
      "Giá trị của a sau gán trừ: 17\n"
     ]
    }
   ],
   "source": [
    "# Gán trừ\n",
    "a -= 3  # Tương đương với a = a - 3\n",
    "print(\"Giá trị của a sau gán trừ:\", a)  # Kết quả: 12\n"
   ]
  },
  {
   "cell_type": "code",
   "execution_count": 6,
   "id": "e0888588",
   "metadata": {},
   "outputs": [
    {
     "name": "stdout",
     "output_type": "stream",
     "text": [
      "Giá trị của a sau gán nhân: 34\n"
     ]
    }
   ],
   "source": [
    "# Gán nhân\n",
    "a *= 2  # Tương đương với a = a * 2\n",
    "print(\"Giá trị của a sau gán nhân:\", a)  # Kết quả: 24\n"
   ]
  },
  {
   "cell_type": "code",
   "execution_count": 7,
   "id": "a6cd11d9",
   "metadata": {},
   "outputs": [
    {
     "name": "stdout",
     "output_type": "stream",
     "text": [
      "Giá trị của a sau gán chia: 8.5\n"
     ]
    }
   ],
   "source": [
    "# Gán chia\n",
    "a /= 4  # Tương đương với a = a / 4\n",
    "print(\"Giá trị của a sau gán chia:\", a)  # Kết quả: 6.0"
   ]
  }
 ],
 "metadata": {
  "kernelspec": {
   "display_name": "myenv",
   "language": "python",
   "name": "python3"
  },
  "language_info": {
   "codemirror_mode": {
    "name": "ipython",
    "version": 3
   },
   "file_extension": ".py",
   "mimetype": "text/x-python",
   "name": "python",
   "nbconvert_exporter": "python",
   "pygments_lexer": "ipython3",
   "version": "3.12.9"
  }
 },
 "nbformat": 4,
 "nbformat_minor": 5
}
