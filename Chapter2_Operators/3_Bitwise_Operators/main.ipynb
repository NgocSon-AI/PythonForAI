{
 "cells": [
  {
   "cell_type": "markdown",
   "id": "0867ec11",
   "metadata": {},
   "source": [
    "<h1>Bitwise Operators</h1>"
   ]
  },
  {
   "cell_type": "markdown",
   "id": "41c50f66",
   "metadata": {},
   "source": [
    "Bitwise operators (toán tử bit) là các toán tử dùng để thực hiện các phép toán trực tiếp trên từng bit của số nguyên. Dưới đây là các toán tử bitwise phổ biến và ví dụ mã Python:\n",
    "\n",
    "AND (&): Kết quả là 1 nếu cả hai bit đều là 1.\n",
    "\n",
    "OR (|): Kết quả là 1 nếu ít nhất một trong hai bit là 1.\n",
    "\n",
    "XOR (^): Kết quả là 1 nếu hai bit khác nhau.\n",
    "\n",
    "NOT (~): Đảo ngược tất cả các bit.\n",
    "\n",
    "Left Shift (<<): Di chuyển các bit sang trái.\n",
    "\n",
    "Right Shift (>>): Di chuyển các bit sang phải."
   ]
  },
  {
   "cell_type": "code",
   "execution_count": 1,
   "id": "8edddbe9",
   "metadata": {},
   "outputs": [],
   "source": [
    "a = 5 # binary: 0101\n",
    "b = 3 # binary: 0011"
   ]
  },
  {
   "cell_type": "markdown",
   "id": "90cb3f88",
   "metadata": {},
   "source": [
    "<h3>1. AND</h3>"
   ]
  },
  {
   "cell_type": "code",
   "execution_count": 2,
   "id": "26d181c4",
   "metadata": {},
   "outputs": [
    {
     "name": "stdout",
     "output_type": "stream",
     "text": [
      "AND:  1\n"
     ]
    }
   ],
   "source": [
    "and_result = a & b\n",
    "print(\"AND: \", and_result)"
   ]
  },
  {
   "cell_type": "markdown",
   "id": "685b8de9",
   "metadata": {},
   "source": [
    "<h3>2. OR</h3>"
   ]
  },
  {
   "cell_type": "code",
   "execution_count": 4,
   "id": "ef5bf2eb",
   "metadata": {},
   "outputs": [
    {
     "name": "stdout",
     "output_type": "stream",
     "text": [
      "OR:  7\n"
     ]
    }
   ],
   "source": [
    "or_result = a | b\n",
    "print(\"OR: \", or_result)"
   ]
  },
  {
   "cell_type": "markdown",
   "id": "edfa5655",
   "metadata": {},
   "source": [
    "<h3>3. XOR</h3>"
   ]
  },
  {
   "cell_type": "code",
   "execution_count": 3,
   "id": "8c221e7e",
   "metadata": {},
   "outputs": [
    {
     "name": "stdout",
     "output_type": "stream",
     "text": [
      "XOR:  6\n"
     ]
    }
   ],
   "source": [
    "xor_result = a ^ b\n",
    "print(\"XOR: \", xor_result)"
   ]
  },
  {
   "cell_type": "markdown",
   "id": "b5877590",
   "metadata": {},
   "source": [
    "<h3>4. NOT</h3>"
   ]
  },
  {
   "cell_type": "code",
   "execution_count": 5,
   "id": "510fbab7",
   "metadata": {},
   "outputs": [
    {
     "name": "stdout",
     "output_type": "stream",
     "text": [
      "not_result:  -6\n"
     ]
    }
   ],
   "source": [
    "not_result = ~a\n",
    "print(\"not_result: \", not_result)"
   ]
  },
  {
   "cell_type": "markdown",
   "id": "8148082e",
   "metadata": {},
   "source": [
    "<h3>5. Left shift</h3>"
   ]
  },
  {
   "cell_type": "code",
   "execution_count": 6,
   "id": "b492cd69",
   "metadata": {},
   "outputs": [
    {
     "name": "stdout",
     "output_type": "stream",
     "text": [
      "left shift:  10\n"
     ]
    }
   ],
   "source": [
    "left_shift_result = a << 1\n",
    "print(\"left shift: \", left_shift_result)"
   ]
  },
  {
   "cell_type": "markdown",
   "id": "04585908",
   "metadata": {},
   "source": [
    "<h3>6. Right shift</h3>"
   ]
  },
  {
   "cell_type": "code",
   "execution_count": 7,
   "id": "7fe5e6b0",
   "metadata": {},
   "outputs": [
    {
     "name": "stdout",
     "output_type": "stream",
     "text": [
      "Right shift:  1\n"
     ]
    }
   ],
   "source": [
    "right_shift_result = b >> 1\n",
    "print(\"Right shift: \", right_shift_result)\n"
   ]
  }
 ],
 "metadata": {
  "kernelspec": {
   "display_name": "myenv",
   "language": "python",
   "name": "python3"
  },
  "language_info": {
   "codemirror_mode": {
    "name": "ipython",
    "version": 3
   },
   "file_extension": ".py",
   "mimetype": "text/x-python",
   "name": "python",
   "nbconvert_exporter": "python",
   "pygments_lexer": "ipython3",
   "version": "3.12.9"
  }
 },
 "nbformat": 4,
 "nbformat_minor": 5
}
