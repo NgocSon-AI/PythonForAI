{
 "cells": [
  {
   "cell_type": "markdown",
   "id": "77894ee2",
   "metadata": {},
   "source": [
    "<h1>Arithmetic Operators</h1>"
   ]
  },
  {
   "cell_type": "markdown",
   "id": "bf39d28e",
   "metadata": {},
   "source": [
    "Toán tử số học (arithmetic operators) trong Python được sử dụng để thực hiện các phép toán cơ bản"
   ]
  },
  {
   "cell_type": "code",
   "execution_count": 1,
   "id": "75d74a07",
   "metadata": {},
   "outputs": [],
   "source": [
    "a = 10\n",
    "b = 5"
   ]
  },
  {
   "cell_type": "markdown",
   "id": "b07c9e36",
   "metadata": {},
   "source": [
    "<h3>1. Addition</h3>"
   ]
  },
  {
   "cell_type": "code",
   "execution_count": 2,
   "id": "bdaad297",
   "metadata": {},
   "outputs": [
    {
     "data": {
      "text/plain": [
       "15"
      ]
     },
     "execution_count": 2,
     "metadata": {},
     "output_type": "execute_result"
    }
   ],
   "source": [
    "a + b"
   ]
  },
  {
   "cell_type": "markdown",
   "id": "989f40f0",
   "metadata": {},
   "source": [
    "<h3>2. Subtraction</h3>"
   ]
  },
  {
   "cell_type": "code",
   "execution_count": 3,
   "id": "27890e1f",
   "metadata": {},
   "outputs": [
    {
     "data": {
      "text/plain": [
       "5"
      ]
     },
     "execution_count": 3,
     "metadata": {},
     "output_type": "execute_result"
    }
   ],
   "source": [
    "a - b"
   ]
  },
  {
   "cell_type": "markdown",
   "id": "fd129159",
   "metadata": {},
   "source": [
    "<h3>3. Multiplication</h3>"
   ]
  },
  {
   "cell_type": "code",
   "execution_count": 4,
   "id": "610b1905",
   "metadata": {},
   "outputs": [
    {
     "data": {
      "text/plain": [
       "50"
      ]
     },
     "execution_count": 4,
     "metadata": {},
     "output_type": "execute_result"
    }
   ],
   "source": [
    "a * b"
   ]
  },
  {
   "cell_type": "markdown",
   "id": "86fa4540",
   "metadata": {},
   "source": [
    "<h3>4. Division</h3>"
   ]
  },
  {
   "cell_type": "code",
   "execution_count": 5,
   "id": "6e8c2582",
   "metadata": {},
   "outputs": [
    {
     "data": {
      "text/plain": [
       "2.0"
      ]
     },
     "execution_count": 5,
     "metadata": {},
     "output_type": "execute_result"
    }
   ],
   "source": [
    "a / b"
   ]
  },
  {
   "cell_type": "markdown",
   "id": "3baa2bf2",
   "metadata": {},
   "source": [
    "<h3>5. Modulus</h3>"
   ]
  },
  {
   "cell_type": "code",
   "execution_count": 6,
   "id": "3f015065",
   "metadata": {},
   "outputs": [
    {
     "data": {
      "text/plain": [
       "0"
      ]
     },
     "execution_count": 6,
     "metadata": {},
     "output_type": "execute_result"
    }
   ],
   "source": [
    "a % b"
   ]
  },
  {
   "cell_type": "markdown",
   "id": "db7b004c",
   "metadata": {},
   "source": [
    "<h3>6. Exponentiation</h3>"
   ]
  },
  {
   "cell_type": "code",
   "execution_count": 7,
   "id": "79fdb575",
   "metadata": {},
   "outputs": [
    {
     "data": {
      "text/plain": [
       "100000"
      ]
     },
     "execution_count": 7,
     "metadata": {},
     "output_type": "execute_result"
    }
   ],
   "source": [
    "a ** b"
   ]
  }
 ],
 "metadata": {
  "kernelspec": {
   "display_name": "myenv",
   "language": "python",
   "name": "python3"
  },
  "language_info": {
   "codemirror_mode": {
    "name": "ipython",
    "version": 3
   },
   "file_extension": ".py",
   "mimetype": "text/x-python",
   "name": "python",
   "nbconvert_exporter": "python",
   "pygments_lexer": "ipython3",
   "version": "3.12.9"
  }
 },
 "nbformat": 4,
 "nbformat_minor": 5
}
