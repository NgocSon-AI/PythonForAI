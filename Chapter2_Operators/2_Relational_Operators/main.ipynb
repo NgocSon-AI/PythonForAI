{
 "cells": [
  {
   "cell_type": "markdown",
   "id": "e7631861",
   "metadata": {},
   "source": [
    "<h1>Relational Operators</h1>"
   ]
  },
  {
   "cell_type": "markdown",
   "id": "3ce70b91",
   "metadata": {},
   "source": [
    "Relational operators (toán tử so sánh) là các ký hiệu được sử dụng để so sánh hai giá trị. Chúng trả về giá trị boolean (True hoặc False) dựa trên kết quả của phép so sánh."
   ]
  },
  {
   "cell_type": "code",
   "execution_count": 2,
   "id": "494eab54",
   "metadata": {},
   "outputs": [],
   "source": [
    "a = 10\n",
    "b = 5"
   ]
  },
  {
   "cell_type": "markdown",
   "id": "8ccb51b3",
   "metadata": {},
   "source": [
    "<h3>1. Equal</h3>"
   ]
  },
  {
   "cell_type": "code",
   "execution_count": 5,
   "id": "dc26f60d",
   "metadata": {},
   "outputs": [
    {
     "name": "stdout",
     "output_type": "stream",
     "text": [
      "Equal to:  False\n"
     ]
    }
   ],
   "source": [
    "print(\"Equal to: \", a == b)"
   ]
  },
  {
   "cell_type": "markdown",
   "id": "647f598b",
   "metadata": {},
   "source": [
    "<h3>2. Not equal</h3>"
   ]
  },
  {
   "cell_type": "code",
   "execution_count": 4,
   "id": "dec83775",
   "metadata": {},
   "outputs": [
    {
     "name": "stdout",
     "output_type": "stream",
     "text": [
      "Not Equal to:  True\n"
     ]
    }
   ],
   "source": [
    "print(\"Not Equal to: \", a != b)"
   ]
  },
  {
   "cell_type": "markdown",
   "id": "5e5818c7",
   "metadata": {},
   "source": [
    "<h3>3. Greater than</h3>"
   ]
  },
  {
   "cell_type": "code",
   "execution_count": 6,
   "id": "33b4ef4b",
   "metadata": {},
   "outputs": [
    {
     "name": "stdout",
     "output_type": "stream",
     "text": [
      "Greater than:  True\n"
     ]
    }
   ],
   "source": [
    "print(\"Greater than: \", a > b)"
   ]
  },
  {
   "cell_type": "markdown",
   "id": "d0ba32b0",
   "metadata": {},
   "source": [
    "<h3>4. Less than</h3>"
   ]
  },
  {
   "cell_type": "code",
   "execution_count": 7,
   "id": "dd4eb58b",
   "metadata": {},
   "outputs": [
    {
     "name": "stdout",
     "output_type": "stream",
     "text": [
      "Less than:  False\n"
     ]
    }
   ],
   "source": [
    "print(\"Less than: \", a < b)"
   ]
  },
  {
   "cell_type": "markdown",
   "id": "baa21ec4",
   "metadata": {},
   "source": [
    "<h3>5. Greater than or equal to</h3>"
   ]
  },
  {
   "cell_type": "code",
   "execution_count": 8,
   "id": "f641fdd8",
   "metadata": {},
   "outputs": [
    {
     "name": "stdout",
     "output_type": "stream",
     "text": [
      "Greater than or equal to:  True\n"
     ]
    }
   ],
   "source": [
    "print(\"Greater than or equal to: \", a >= b)"
   ]
  },
  {
   "cell_type": "markdown",
   "id": "62fd5ff6",
   "metadata": {},
   "source": [
    "<h3>6. Less than or equal to</h3>"
   ]
  },
  {
   "cell_type": "code",
   "execution_count": 9,
   "id": "87aff5c2",
   "metadata": {},
   "outputs": [
    {
     "name": "stdout",
     "output_type": "stream",
     "text": [
      "Less than or equal to:  False\n"
     ]
    }
   ],
   "source": [
    "print(\"Less than or equal to: \", a <= b)"
   ]
  }
 ],
 "metadata": {
  "kernelspec": {
   "display_name": "myenv",
   "language": "python",
   "name": "python3"
  },
  "language_info": {
   "codemirror_mode": {
    "name": "ipython",
    "version": 3
   },
   "file_extension": ".py",
   "mimetype": "text/x-python",
   "name": "python",
   "nbconvert_exporter": "python",
   "pygments_lexer": "ipython3",
   "version": "3.12.9"
  }
 },
 "nbformat": 4,
 "nbformat_minor": 5
}
