{
 "cells": [
  {
   "cell_type": "markdown",
   "id": "64c3dce1",
   "metadata": {},
   "source": [
    "<h1>Assignment Operators</h1>"
   ]
  },
  {
   "cell_type": "markdown",
   "id": "d2ee2161",
   "metadata": {},
   "source": [
    "Assignment operators (toán tử gán) được sử dụng để gán giá trị cho biến trong Python. Dưới đây là các toán tử gán phổ biến:\n",
    "\n",
    "Gán đơn giản (=): Gán giá trị cho biến.\n",
    "\n",
    "Gán cộng (+=): Thêm giá trị vào biến và gán lại cho biến.\n",
    "\n",
    "Gán trừ (-=): Trừ giá trị từ biến và gán lại cho biến.\n",
    "\n",
    "Gán nhân (*=): Nhân giá trị với biến và gán lại cho biến.\n",
    "\n",
    "Gán chia (/=): Chia biến cho giá trị và gán lại cho biến.\n",
    "\n",
    "Gán chia lấy dư (%=): Lấy dư của biến và gán lại cho biến.\n",
    "\n",
    "Gán lũy thừa (**=): Tính lũy thừa và gán lại cho biến.\n",
    "\n",
    "Gán dịch bit (<<= và >>=): Dịch bit sang trái hoặc phải."
   ]
  },
  {
   "cell_type": "code",
   "execution_count": 1,
   "id": "84fad6ec",
   "metadata": {},
   "outputs": [
    {
     "name": "stdout",
     "output_type": "stream",
     "text": [
      "Giá trị của x: 10\n"
     ]
    }
   ],
   "source": [
    "# Gán giá trị cho biến\n",
    "x = 10\n",
    "print(\"Giá trị của x:\", x)  # Kết quả: 10"
   ]
  },
  {
   "cell_type": "code",
   "execution_count": 2,
   "id": "ac28a832",
   "metadata": {},
   "outputs": [
    {
     "name": "stdout",
     "output_type": "stream",
     "text": [
      "Sau khi gán cộng, x: 15\n"
     ]
    }
   ],
   "source": [
    "# Gán cộng\n",
    "x += 5  # Tương đương với x = x + 5\n",
    "print(\"Sau khi gán cộng, x:\", x)  # Kết quả: 15"
   ]
  },
  {
   "cell_type": "code",
   "execution_count": 3,
   "id": "b3ac29cb",
   "metadata": {},
   "outputs": [
    {
     "name": "stdout",
     "output_type": "stream",
     "text": [
      "Sau khi gán trừ, x: 12\n"
     ]
    }
   ],
   "source": [
    "# Gán trừ\n",
    "x -= 3  # Tương đương với x = x - 3\n",
    "print(\"Sau khi gán trừ, x:\", x)  # Kết quả: 12"
   ]
  },
  {
   "cell_type": "code",
   "execution_count": 4,
   "id": "5deba253",
   "metadata": {},
   "outputs": [
    {
     "name": "stdout",
     "output_type": "stream",
     "text": [
      "Sau khi gán nhân, x: 24\n"
     ]
    }
   ],
   "source": [
    "# Gán nhân\n",
    "x *= 2  # Tương đương với x = x * 2\n",
    "print(\"Sau khi gán nhân, x:\", x)  # Kết quả: 24"
   ]
  },
  {
   "cell_type": "code",
   "execution_count": 5,
   "id": "67fdf3ed",
   "metadata": {},
   "outputs": [
    {
     "name": "stdout",
     "output_type": "stream",
     "text": [
      "Sau khi gán chia, x: 6.0\n"
     ]
    }
   ],
   "source": [
    "# Gán chia\n",
    "x /= 4  # Tương đương với x = x / 4\n",
    "print(\"Sau khi gán chia, x:\", x)  # Kết quả: 6.0"
   ]
  },
  {
   "cell_type": "code",
   "execution_count": 6,
   "id": "6573c2b3",
   "metadata": {},
   "outputs": [
    {
     "name": "stdout",
     "output_type": "stream",
     "text": [
      "Sau khi gán chia lấy dư, x: 0.0\n"
     ]
    }
   ],
   "source": [
    "# Gán chia lấy dư\n",
    "x %= 3  # Tương đương với x = x % 3\n",
    "print(\"Sau khi gán chia lấy dư, x:\", x)  # Kết quả: 0.0"
   ]
  },
  {
   "cell_type": "code",
   "execution_count": 7,
   "id": "9212b807",
   "metadata": {},
   "outputs": [
    {
     "name": "stdout",
     "output_type": "stream",
     "text": [
      "Sau khi gán lũy thừa, x: 0.0\n"
     ]
    }
   ],
   "source": [
    "# Gán lũy thừa\n",
    "x **= 2  # Tương đương với x = x ** 2\n",
    "print(\"Sau khi gán lũy thừa, x:\", x)  # Kết quả: 0.0"
   ]
  },
  {
   "cell_type": "code",
   "execution_count": 8,
   "id": "33254092",
   "metadata": {},
   "outputs": [
    {
     "name": "stdout",
     "output_type": "stream",
     "text": [
      "Sau khi gán dịch bit sang trái, y: 8\n"
     ]
    }
   ],
   "source": [
    "# Gán dịch bit\n",
    "y = 4  # (binary: 0100)\n",
    "y <<= 1  # Tương đương với y = y << 1 (binary: 1000)\n",
    "print(\"Sau khi gán dịch bit sang trái, y:\", y)  # Kết quả: 8"
   ]
  }
 ],
 "metadata": {
  "kernelspec": {
   "display_name": "myenv",
   "language": "python",
   "name": "python3"
  },
  "language_info": {
   "codemirror_mode": {
    "name": "ipython",
    "version": 3
   },
   "file_extension": ".py",
   "mimetype": "text/x-python",
   "name": "python",
   "nbconvert_exporter": "python",
   "pygments_lexer": "ipython3",
   "version": "3.12.9"
  }
 },
 "nbformat": 4,
 "nbformat_minor": 5
}
