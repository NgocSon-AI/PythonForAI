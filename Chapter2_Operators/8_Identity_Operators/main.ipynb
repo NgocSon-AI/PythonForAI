{
 "cells": [
  {
   "cell_type": "markdown",
   "id": "3d676f64",
   "metadata": {},
   "source": [
    "<h1>Identity Operators</h1>"
   ]
  },
  {
   "cell_type": "markdown",
   "id": "ea240a58",
   "metadata": {},
   "source": [
    "Identity operators (toán tử đồng nhất) được sử dụng để kiểm tra xem hai biến có cùng tham chiếu đến một đối tượng trong bộ nhớ hay không. Trong Python, có hai toán tử đồng nhất:\n",
    "\n",
    "is: Trả về True nếu hai biến tham chiếu đến cùng một đối tượng.\n",
    "\n",
    "is not: Trả về True nếu hai biến không tham chiếu đến cùng một đối tượng."
   ]
  },
  {
   "cell_type": "code",
   "execution_count": 1,
   "id": "14221735",
   "metadata": {},
   "outputs": [],
   "source": [
    "# Khởi tạo hai biến\n",
    "a = [1, 2, 3]\n",
    "b = a  # b tham chiếu đến cùng một danh sách với a\n",
    "c = [1, 2, 3]  # c là một danh sách mới"
   ]
  },
  {
   "cell_type": "code",
   "execution_count": 2,
   "id": "0cbf14c2",
   "metadata": {},
   "outputs": [
    {
     "name": "stdout",
     "output_type": "stream",
     "text": [
      "a và b có cùng tham chiếu không: True\n"
     ]
    }
   ],
   "source": [
    "# Sử dụng toán tử `is`\n",
    "is_same_object = a is b\n",
    "print(\"a và b có cùng tham chiếu không:\", is_same_object)  # Kết quả: True"
   ]
  },
  {
   "cell_type": "code",
   "execution_count": 3,
   "id": "c465fcdf",
   "metadata": {},
   "outputs": [
    {
     "name": "stdout",
     "output_type": "stream",
     "text": [
      "a và c có không cùng tham chiếu không: True\n"
     ]
    }
   ],
   "source": [
    "\n",
    "# Sử dụng toán tử `is not`\n",
    "is_not_same_object = a is not c\n",
    "print(\"a và c có không cùng tham chiếu không:\", is_not_same_object)  # Kết quả: True\n"
   ]
  },
  {
   "cell_type": "code",
   "execution_count": 4,
   "id": "0d81ba0a",
   "metadata": {},
   "outputs": [
    {
     "name": "stdout",
     "output_type": "stream",
     "text": [
      "x và y có cùng tham chiếu không: True\n"
     ]
    }
   ],
   "source": [
    "# Kiểm tra với số nguyên\n",
    "x = 5\n",
    "y = 5\n",
    "is_x_y_same = x is y\n",
    "print(\"x và y có cùng tham chiếu không:\", is_x_y_same)  # Kết quả: True"
   ]
  }
 ],
 "metadata": {
  "kernelspec": {
   "display_name": "myenv",
   "language": "python",
   "name": "python3"
  },
  "language_info": {
   "codemirror_mode": {
    "name": "ipython",
    "version": 3
   },
   "file_extension": ".py",
   "mimetype": "text/x-python",
   "name": "python",
   "nbconvert_exporter": "python",
   "pygments_lexer": "ipython3",
   "version": "3.12.9"
  }
 },
 "nbformat": 4,
 "nbformat_minor": 5
}
