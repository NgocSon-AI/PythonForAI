{
 "cells": [
  {
   "cell_type": "markdown",
   "id": "6d324238",
   "metadata": {},
   "source": [
    "<h1>Membership Operators</h1>"
   ]
  },
  {
   "cell_type": "markdown",
   "id": "09aecd5c",
   "metadata": {},
   "source": [
    "Membership operators (toán tử thành viên) được sử dụng để kiểm tra xem một giá trị có nằm trong một tập hợp (như danh sách, tuple, hoặc chuỗi) hay không. Trong Python, có hai toán tử thành viên:\n",
    "\n",
    "in: Trả về True nếu giá trị nằm trong tập hợp.\n",
    "\n",
    "not in: Trả về True nếu giá trị không nằm trong tập hợp."
   ]
  },
  {
   "cell_type": "code",
   "execution_count": 1,
   "id": "adea435d",
   "metadata": {},
   "outputs": [],
   "source": [
    "# Khởi tạo danh sách và chuỗi\n",
    "fruits = [\"apple\", \"banana\", \"cherry\"]\n",
    "text = \"Hello, world!\""
   ]
  },
  {
   "cell_type": "code",
   "execution_count": 2,
   "id": "7f958465",
   "metadata": {},
   "outputs": [
    {
     "name": "stdout",
     "output_type": "stream",
     "text": [
      "Có 'apple' trong danh sách trái cây: True\n"
     ]
    }
   ],
   "source": [
    "# Sử dụng toán tử `in`\n",
    "is_apple_in_fruits = \"apple\" in fruits\n",
    "print(\"Có 'apple' trong danh sách trái cây:\", is_apple_in_fruits)  # Kết quả: True"
   ]
  },
  {
   "cell_type": "code",
   "execution_count": 3,
   "id": "15c6fa43",
   "metadata": {},
   "outputs": [
    {
     "name": "stdout",
     "output_type": "stream",
     "text": [
      "Có 'grape' không trong danh sách trái cây: True\n"
     ]
    }
   ],
   "source": [
    "# Sử dụng toán tử `not in`\n",
    "is_grape_in_fruits = \"grape\" not in fruits\n",
    "print(\"Có 'grape' không trong danh sách trái cây:\", is_grape_in_fruits)  # Kết quả: True"
   ]
  },
  {
   "cell_type": "code",
   "execution_count": 4,
   "id": "b378e5b1",
   "metadata": {},
   "outputs": [
    {
     "name": "stdout",
     "output_type": "stream",
     "text": [
      "Có 'Hello' trong chuỗi: True\n"
     ]
    }
   ],
   "source": [
    "# Kiểm tra trong chuỗi\n",
    "is_hello_in_text = \"Hello\" in text\n",
    "print(\"Có 'Hello' trong chuỗi:\", is_hello_in_text)  # Kết quả: True"
   ]
  },
  {
   "cell_type": "code",
   "execution_count": 5,
   "id": "d3975bb4",
   "metadata": {},
   "outputs": [
    {
     "name": "stdout",
     "output_type": "stream",
     "text": [
      "Có 'world!' không trong chuỗi: False\n"
     ]
    }
   ],
   "source": [
    "is_world_not_in_text = \"world!\" not in text\n",
    "print(\"Có 'world!' không trong chuỗi:\", is_world_not_in_text)  # Kết quả: False"
   ]
  }
 ],
 "metadata": {
  "kernelspec": {
   "display_name": "myenv",
   "language": "python",
   "name": "python3"
  },
  "language_info": {
   "codemirror_mode": {
    "name": "ipython",
    "version": 3
   },
   "file_extension": ".py",
   "mimetype": "text/x-python",
   "name": "python",
   "nbconvert_exporter": "python",
   "pygments_lexer": "ipython3",
   "version": "3.12.9"
  }
 },
 "nbformat": 4,
 "nbformat_minor": 5
}
